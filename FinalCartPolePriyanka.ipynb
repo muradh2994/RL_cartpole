{
 "cells": [
  {
   "cell_type": "markdown",
   "metadata": {},
   "source": [
    "    0.Importing Packages"
   ]
  },
  {
   "cell_type": "code",
   "execution_count": 153,
   "metadata": {},
   "outputs": [
    {
     "name": "stderr",
     "output_type": "stream",
     "text": [
      "C:\\Users\\fayas\\Anaconda3\\envs\\tf\\lib\\site-packages\\ipykernel\\ipkernel.py:287: DeprecationWarning: `should_run_async` will not call `transform_cell` automatically in the future. Please pass the result to `transformed_cell` argument and any exception that happen during thetransform in `preprocessing_exc_tuple` in IPython 7.17 and above.\n",
      "  and should_run_async(code)\n"
     ]
    }
   ],
   "source": [
    "#Importing necessary libraries\r\n",
    "import os\r\n",
    "os.environ['CUDA_VISIBLE_DEVICES'] = '-1'\r\n",
    "import random\r\n",
    "import gym\r\n",
    "import numpy as np\r\n",
    "from collections import deque\r\n",
    "from tensorflow.keras.models import Model, load_model,Sequential\r\n",
    "from tensorflow.keras.layers import Input, Dense,Flatten\r\n",
    "from tensorflow.keras.optimizers import Adam, RMSprop\r\n",
    "import matplotlib.pyplot as plt"
   ]
  },
  {
   "cell_type": "markdown",
   "metadata": {},
   "source": [
    "    1. Importing an Open AI Gym Game"
   ]
  },
  {
   "cell_type": "code",
   "execution_count": 154,
   "metadata": {},
   "outputs": [
    {
     "name": "stderr",
     "output_type": "stream",
     "text": [
      "C:\\Users\\fayas\\Anaconda3\\envs\\tf\\lib\\site-packages\\gym\\envs\\registration.py:506: UserWarning: \u001b[33mWARN: The environment CartPole-v0 is out of date. You should consider upgrading to version `v1` with the environment ID `CartPole-v1`.\u001b[0m\n",
      "  f\"The environment {path} is out of date. You should consider \"\n"
     ]
    }
   ],
   "source": [
    "# Importing the cartpole environment from openAi gym\r\n",
    "env = gym.make('CartPole-v0')\r\n",
    "actions = env.action_space.n\r\n",
    "states = env.observation_space.shape[0]"
   ]
  },
  {
   "cell_type": "markdown",
   "metadata": {},
   "source": [
    "Random Test with the imported OpenAi Gym game"
   ]
  },
  {
   "cell_type": "code",
   "execution_count": 155,
   "metadata": {},
   "outputs": [
    {
     "name": "stdout",
     "output_type": "stream",
     "text": [
      "Episode:1 Score:16.0\n",
      "Episode:2 Score:11.0\n",
      "Episode:3 Score:12.0\n",
      "Episode:4 Score:14.0\n",
      "Episode:5 Score:10.0\n",
      "Episode:6 Score:14.0\n",
      "Episode:7 Score:20.0\n",
      "Episode:8 Score:19.0\n",
      "Episode:9 Score:12.0\n",
      "Episode:10 Score:37.0\n",
      "Episode:11 Score:11.0\n",
      "Episode:12 Score:14.0\n",
      "Episode:13 Score:13.0\n",
      "Episode:14 Score:14.0\n",
      "Episode:15 Score:17.0\n",
      "Episode:16 Score:30.0\n",
      "Episode:17 Score:17.0\n",
      "Episode:18 Score:15.0\n",
      "Episode:19 Score:28.0\n",
      "Episode:20 Score:22.0\n",
      "Episode:21 Score:18.0\n",
      "Episode:22 Score:13.0\n",
      "Episode:23 Score:32.0\n",
      "Episode:24 Score:17.0\n",
      "Episode:25 Score:10.0\n",
      "Episode:26 Score:14.0\n",
      "Episode:27 Score:10.0\n",
      "Episode:28 Score:36.0\n",
      "Episode:29 Score:16.0\n",
      "Episode:30 Score:15.0\n",
      "Episode:31 Score:19.0\n",
      "Episode:32 Score:26.0\n",
      "Episode:33 Score:12.0\n",
      "Episode:34 Score:17.0\n",
      "Episode:35 Score:18.0\n",
      "Episode:36 Score:9.0\n",
      "Episode:37 Score:15.0\n",
      "Episode:38 Score:22.0\n",
      "Episode:39 Score:13.0\n",
      "Episode:40 Score:19.0\n",
      "Episode:41 Score:11.0\n",
      "Episode:42 Score:16.0\n",
      "Episode:43 Score:66.0\n",
      "Episode:44 Score:22.0\n",
      "Episode:45 Score:14.0\n",
      "Episode:46 Score:13.0\n",
      "Episode:47 Score:24.0\n",
      "Episode:48 Score:26.0\n",
      "Episode:49 Score:23.0\n",
      "Episode:50 Score:14.0\n",
      "Episode:51 Score:51.0\n",
      "Episode:52 Score:13.0\n",
      "Episode:53 Score:27.0\n",
      "Episode:54 Score:11.0\n",
      "Episode:55 Score:13.0\n",
      "Episode:56 Score:20.0\n",
      "Episode:57 Score:24.0\n",
      "Episode:58 Score:19.0\n",
      "Episode:59 Score:11.0\n",
      "Episode:60 Score:27.0\n",
      "Episode:61 Score:36.0\n",
      "Episode:62 Score:27.0\n",
      "Episode:63 Score:14.0\n",
      "Episode:64 Score:14.0\n",
      "Episode:65 Score:42.0\n",
      "Episode:66 Score:18.0\n",
      "Episode:67 Score:43.0\n",
      "Episode:68 Score:16.0\n",
      "Episode:69 Score:13.0\n",
      "Episode:70 Score:13.0\n",
      "Episode:71 Score:16.0\n",
      "Episode:72 Score:14.0\n",
      "Episode:73 Score:25.0\n",
      "Episode:74 Score:24.0\n",
      "Episode:75 Score:19.0\n",
      "Episode:76 Score:24.0\n",
      "Episode:77 Score:12.0\n",
      "Episode:78 Score:11.0\n",
      "Episode:79 Score:17.0\n",
      "Episode:80 Score:43.0\n",
      "Episode:81 Score:10.0\n",
      "Episode:82 Score:30.0\n",
      "Episode:83 Score:22.0\n",
      "Episode:84 Score:37.0\n",
      "Episode:85 Score:16.0\n",
      "Episode:86 Score:43.0\n",
      "Episode:87 Score:18.0\n",
      "Episode:88 Score:11.0\n",
      "Episode:89 Score:33.0\n",
      "Episode:90 Score:16.0\n",
      "Episode:91 Score:9.0\n",
      "Episode:92 Score:45.0\n",
      "Episode:93 Score:10.0\n",
      "Episode:94 Score:29.0\n",
      "Episode:95 Score:26.0\n",
      "Episode:96 Score:21.0\n",
      "Episode:97 Score:13.0\n",
      "Episode:98 Score:19.0\n",
      "Episode:99 Score:15.0\n",
      "Episode:100 Score:18.0\n"
     ]
    }
   ],
   "source": [
    "# testing the environment with random actions\r\n",
    "episodes = 100\r\n",
    "for episode in range(1, episodes+1):\r\n",
    "    state = env.reset()\r\n",
    "    done = False\r\n",
    "    score = 0 \r\n",
    "    \r\n",
    "    while not done:\r\n",
    "        env.render()\r\n",
    "        action = random.choice([0,1])\r\n",
    "        n_state, reward, done, info = env.step(action)\r\n",
    "        score+=reward\r\n",
    "    print('Episode:{} Score:{}'.format(episode, score))"
   ]
  },
  {
   "cell_type": "markdown",
   "metadata": {},
   "source": [
    "    2. Creating a Network"
   ]
  },
  {
   "cell_type": "code",
   "execution_count": 156,
   "metadata": {},
   "outputs": [],
   "source": [
    "# creating a neural network model with keras\r\n",
    "def neural_model(states, actions):\r\n",
    "    X_input = Input(states)\r\n",
    "    model = Sequential()\r\n",
    "    model.add(Flatten(input_shape=states))\r\n",
    "    #model.add(Dense(512, activation='relu'))\r\n",
    "    model.add(Dense(24, activation='relu'))\r\n",
    "    model.add(Dense(24, activation='relu'))\r\n",
    "    model.add(Dense(actions, activation='linear'))\r\n",
    "    model.compile(loss='mse',optimizer=Adam(learning_rate=0.001))\r\n",
    "\r\n",
    "    return model"
   ]
  },
  {
   "cell_type": "code",
   "execution_count": 157,
   "metadata": {},
   "outputs": [],
   "source": [
    "# creating a model object\r\n",
    "model = neural_model((states,), actions)"
   ]
  },
  {
   "cell_type": "code",
   "execution_count": 158,
   "metadata": {},
   "outputs": [
    {
     "name": "stdout",
     "output_type": "stream",
     "text": [
      "Model: \"sequential_5\"\n",
      "_________________________________________________________________\n",
      "Layer (type)                 Output Shape              Param #   \n",
      "=================================================================\n",
      "flatten_5 (Flatten)          (None, 4)                 0         \n",
      "_________________________________________________________________\n",
      "dense_18 (Dense)             (None, 24)                120       \n",
      "_________________________________________________________________\n",
      "dense_19 (Dense)             (None, 24)                600       \n",
      "_________________________________________________________________\n",
      "dense_20 (Dense)             (None, 2)                 50        \n",
      "=================================================================\n",
      "Total params: 770\n",
      "Trainable params: 770\n",
      "Non-trainable params: 0\n",
      "_________________________________________________________________\n"
     ]
    }
   ],
   "source": [
    "model.summary()"
   ]
  },
  {
   "cell_type": "markdown",
   "metadata": {},
   "source": [
    "    3.Connecting game to the network"
   ]
  },
  {
   "cell_type": "code",
   "execution_count": 159,
   "metadata": {},
   "outputs": [],
   "source": [
    "# Hyperparameters for the DQN algorithm\r\n",
    "EPISODES = 300\r\n",
    "\r\n",
    "EXPLORATION_MAX= 1.0\r\n",
    "EXPLORATION_MIN = 0.001\r\n",
    "EXPLORATION_DECAY = 0.999\r\n",
    "\r\n",
    "GAMMA = 0.95\r\n",
    "LEARNING_RATE = 0.001\r\n",
    "\r\n",
    "MEMORY_SIZE = 10000\r\n",
    "BATCH_SIZE = 64\r\n",
    "\r\n",
    "TRAIN_START = 1000"
   ]
  },
  {
   "cell_type": "code",
   "execution_count": 160,
   "metadata": {},
   "outputs": [],
   "source": [
    "# defining the class for the DQN algorithm\r\n",
    "class DQNSolver:\r\n",
    "    \r\n",
    "    ''' Deep Q Neural Network class. '''\r\n",
    "\r\n",
    "    #initializing the model parameters\r\n",
    "    def __init__(self, states, actions,model):\r\n",
    "        self.exp_rate = EXPLORATION_MAX\r\n",
    "        self.action_choice = actions\r\n",
    "        self.memory = deque(maxlen=MEMORY_SIZE)\r\n",
    "        self.model = model\r\n",
    "\r\n",
    "    # appending the values to the memory table\r\n",
    "    def DQN_table(self, state, action, reward, next_state, done):\r\n",
    "        self.memory.append((state, action, reward, next_state, done))\r\n",
    "        if len(self.memory) > TRAIN_START:\r\n",
    "            if self.exp_rate > EXPLORATION_MIN:\r\n",
    "                self.exp_rate *= EXPLORATION_DECAY\r\n",
    "\r\n",
    "\r\n",
    "    # play function to choose the action based on exploration rate\r\n",
    "    def play(self, state):\r\n",
    "        if np.random.rand() < self.exp_rate:\r\n",
    "            return random.randrange(self.action_choice)\r\n",
    "        q_val = self.model.predict(state)\r\n",
    "        return np.argmax(q_val[0])\r\n",
    "\r\n",
    "    # defining the experience_replay function to store the experience in the memory\r\n",
    "    def experience_replay(self):\r\n",
    "        if len(self.memory) < TRAIN_START:\r\n",
    "            return\r\n",
    "        batch = random.sample(self.memory, BATCH_SIZE)\r\n",
    "        for state, action, reward, next_state, terminal in batch:\r\n",
    "            qval_update = reward\r\n",
    "            if not terminal:\r\n",
    "                qval_update = (reward + GAMMA * np.amax(self.model.predict(next_state)[0]))\r\n",
    "            q_val = self.model.predict(state)\r\n",
    "            q_val[0][action] = qval_update\r\n",
    "            self.model.fit(state, q_val, verbose=0)\r\n",
    "        self.exp_rate *= EXPLORATION_DECAY\r\n",
    "        self.exp_rate = max(EXPLORATION_MIN, self.exp_rate)\r\n",
    "\r\n",
    "    # function to save the model    \r\n",
    "    def save(self,name):\r\n",
    "         \r\n",
    "         self.model.save(name)"
   ]
  },
  {
   "cell_type": "code",
   "execution_count": 161,
   "metadata": {},
   "outputs": [],
   "source": [
    "# list variables to store the values for plotting\r\n",
    "plotScores=[]\r\n",
    "plotepsilon=[] \r\n",
    "plotsteps = []"
   ]
  },
  {
   "cell_type": "code",
   "execution_count": 162,
   "metadata": {},
   "outputs": [],
   "source": [
    "# Training the DQN algorithm\r\n",
    "def training():\r\n",
    "    \r\n",
    "    dqn_solver = DQNSolver(states, actions,model)\r\n",
    "    run = 0\r\n",
    "    for run in range(EPISODES):\r\n",
    "        score = 0\r\n",
    "        state = env.reset()\r\n",
    "        state = np.reshape(state, [1, states])\r\n",
    "        iter = 0\r\n",
    "        terminal = False\r\n",
    "        while not terminal:\r\n",
    "            iter += 1\r\n",
    "            env.render()\r\n",
    "            action = dqn_solver.play(state)\r\n",
    "            next_state, reward, terminal, info = env.step(action)\r\n",
    "            reward = reward if not terminal else -100\r\n",
    "            score += reward\r\n",
    "            next_state = np.reshape(next_state, [1, states])\r\n",
    "            dqn_solver.DQN_table(state, action, reward, next_state, terminal)\r\n",
    "            state = next_state\r\n",
    "            if terminal:\r\n",
    "                plotScores.append(score)\r\n",
    "                #plotScores.append(iter)\r\n",
    "                plotepsilon.append(dqn_solver.exp_rate)\r\n",
    "                plotsteps.append(run)\r\n",
    "                print (\"Run: \" + str(run) + \" / \" + str(EPISODES) + \", exploration: \" + str(dqn_solver.exp_rate)+ \", score:\"  + str(score))\r\n",
    "                if run == 100 or run == 299 or run == 1000:\r\n",
    "                    print(\"Saving trained model as cartpole_weights\"+str(run)+\".h5\")\r\n",
    "                    dqn_solver.save('cartpole_weights'+str(run)+'.h5')\r\n",
    "                break\r\n",
    "            dqn_solver.experience_replay()\r\n",
    "        \r\n",
    "    return plotScores,plotepsilon,plotsteps "
   ]
  },
  {
   "cell_type": "code",
   "execution_count": 163,
   "metadata": {},
   "outputs": [
    {
     "name": "stdout",
     "output_type": "stream",
     "text": [
      "Run: 0 / 300, exploration: 1.0, score:-80.0\n",
      "Run: 1 / 300, exploration: 1.0, score:-65.0\n",
      "Run: 2 / 300, exploration: 1.0, score:-64.0\n",
      "Run: 3 / 300, exploration: 1.0, score:-85.0\n",
      "Run: 4 / 300, exploration: 1.0, score:-87.0\n",
      "Run: 5 / 300, exploration: 1.0, score:-92.0\n",
      "Run: 6 / 300, exploration: 1.0, score:-89.0\n",
      "Run: 7 / 300, exploration: 1.0, score:-84.0\n",
      "Run: 8 / 300, exploration: 1.0, score:-91.0\n",
      "Run: 9 / 300, exploration: 1.0, score:-83.0\n",
      "Run: 10 / 300, exploration: 1.0, score:-54.0\n",
      "Run: 11 / 300, exploration: 1.0, score:-89.0\n",
      "Run: 12 / 300, exploration: 1.0, score:-82.0\n",
      "Run: 13 / 300, exploration: 1.0, score:-79.0\n",
      "Run: 14 / 300, exploration: 1.0, score:-61.0\n",
      "Run: 15 / 300, exploration: 1.0, score:-81.0\n",
      "Run: 16 / 300, exploration: 1.0, score:-83.0\n",
      "Run: 17 / 300, exploration: 1.0, score:-88.0\n",
      "Run: 18 / 300, exploration: 1.0, score:-25.0\n",
      "Run: 19 / 300, exploration: 1.0, score:-90.0\n",
      "Run: 20 / 300, exploration: 1.0, score:-81.0\n",
      "Run: 21 / 300, exploration: 1.0, score:-68.0\n",
      "Run: 22 / 300, exploration: 1.0, score:-77.0\n",
      "Run: 23 / 300, exploration: 1.0, score:-80.0\n",
      "Run: 24 / 300, exploration: 1.0, score:-76.0\n",
      "Run: 25 / 300, exploration: 1.0, score:-58.0\n",
      "Run: 26 / 300, exploration: 1.0, score:-85.0\n",
      "Run: 27 / 300, exploration: 1.0, score:-74.0\n",
      "Run: 28 / 300, exploration: 1.0, score:-32.0\n",
      "Run: 29 / 300, exploration: 1.0, score:-78.0\n",
      "Run: 30 / 300, exploration: 1.0, score:-89.0\n",
      "Run: 31 / 300, exploration: 1.0, score:-80.0\n",
      "Run: 32 / 300, exploration: 1.0, score:-78.0\n",
      "Run: 33 / 300, exploration: 1.0, score:-51.0\n",
      "Run: 34 / 300, exploration: 1.0, score:-90.0\n",
      "Run: 35 / 300, exploration: 1.0, score:-88.0\n",
      "Run: 36 / 300, exploration: 1.0, score:-89.0\n",
      "Run: 37 / 300, exploration: 1.0, score:-79.0\n",
      "Run: 38 / 300, exploration: 1.0, score:-83.0\n",
      "Run: 39 / 300, exploration: 1.0, score:-67.0\n",
      "Run: 40 / 300, exploration: 1.0, score:-91.0\n",
      "Run: 41 / 300, exploration: 0.9607702107358118, score:-76.0\n",
      "Run: 42 / 300, exploration: 0.933294459381294, score:-86.0\n",
      "Run: 43 / 300, exploration: 0.8904235427767183, score:-77.0\n"
     ]
    }
   ],
   "source": [
    "plotScores,plotepsilon,plotsteps = training()"
   ]
  },
  {
   "cell_type": "code",
   "execution_count": null,
   "metadata": {},
   "outputs": [
    {
     "data": {
      "text/plain": [
       "[-84.0,\n",
       " -72.0,\n",
       " -79.0,\n",
       " -78.0,\n",
       " -73.0,\n",
       " -84.0,\n",
       " -65.0,\n",
       " -86.0,\n",
       " -70.0,\n",
       " -66.0,\n",
       " -85.0,\n",
       " -75.0,\n",
       " -69.0,\n",
       " -76.0,\n",
       " -64.0,\n",
       " -80.0,\n",
       " -62.0,\n",
       " -88.0,\n",
       " -71.0,\n",
       " -79.0,\n",
       " -69.0,\n",
       " -78.0,\n",
       " -76.0,\n",
       " -73.0,\n",
       " -53.0,\n",
       " -89.0,\n",
       " -84.0,\n",
       " -87.0,\n",
       " -91.0,\n",
       " -87.0,\n",
       " -90.0,\n",
       " -85.0,\n",
       " -85.0,\n",
       " -80.0,\n",
       " -62.0]"
      ]
     },
     "execution_count": 93,
     "metadata": {},
     "output_type": "execute_result"
    }
   ],
   "source": [
    "plotScores"
   ]
  },
  {
   "cell_type": "markdown",
   "metadata": {},
   "source": [
    "    4. Implementing the deep reinforcement learning model"
   ]
  },
  {
   "cell_type": "code",
   "execution_count": null,
   "metadata": {},
   "outputs": [],
   "source": [
    "# Load the model\r\n",
    "def load(name):\r\n",
    "        return load_model(name)"
   ]
  },
  {
   "cell_type": "code",
   "execution_count": null,
   "metadata": {},
   "outputs": [],
   "source": [
    "#test the model with our trained model weights\r\n",
    "def testing(state_size):\r\n",
    "    load('cartpole_weights29.h5')\r\n",
    "    for run in range(EPISODES):\r\n",
    "        state = env.reset()\r\n",
    "        state = np.reshape(state, [1,state_size])\r\n",
    "        terminal = False\r\n",
    "        score = 0\r\n",
    "        iter = 0\r\n",
    "        while not terminal:\r\n",
    "            iter += 1\r\n",
    "            env.render()\r\n",
    "            action = np.argmax(model.predict(state))\r\n",
    "            next_state, reward, terminal, info = env.step(action)\r\n",
    "            score += reward\r\n",
    "            state = np.reshape(next_state, [1, state_size])\r\n",
    "            if done:\r\n",
    "                print (\"Run: \" + str(run) + \" / \" + str(EPISODES) + \", score: \" + str(score))\r\n",
    "                break"
   ]
  },
  {
   "cell_type": "code",
   "execution_count": null,
   "metadata": {},
   "outputs": [
    {
     "name": "stdout",
     "output_type": "stream",
     "text": [
      "Run: 0 / 35, score: 1.0\n",
      "Run: 1 / 35, score: 1.0\n",
      "Run: 2 / 35, score: 1.0\n",
      "Run: 3 / 35, score: 1.0\n",
      "Run: 4 / 35, score: 1.0\n",
      "Run: 5 / 35, score: 1.0\n",
      "Run: 6 / 35, score: 1.0\n",
      "Run: 7 / 35, score: 1.0\n",
      "Run: 8 / 35, score: 1.0\n",
      "Run: 9 / 35, score: 1.0\n",
      "Run: 10 / 35, score: 1.0\n",
      "Run: 11 / 35, score: 1.0\n",
      "Run: 12 / 35, score: 1.0\n",
      "Run: 13 / 35, score: 1.0\n",
      "Run: 14 / 35, score: 1.0\n",
      "Run: 15 / 35, score: 1.0\n",
      "Run: 16 / 35, score: 1.0\n",
      "Run: 17 / 35, score: 1.0\n",
      "Run: 18 / 35, score: 1.0\n",
      "Run: 19 / 35, score: 1.0\n",
      "Run: 20 / 35, score: 1.0\n",
      "Run: 21 / 35, score: 1.0\n",
      "Run: 22 / 35, score: 1.0\n",
      "Run: 23 / 35, score: 1.0\n",
      "Run: 24 / 35, score: 1.0\n",
      "Run: 25 / 35, score: 1.0\n",
      "Run: 26 / 35, score: 1.0\n",
      "Run: 27 / 35, score: 1.0\n",
      "Run: 28 / 35, score: 1.0\n",
      "Run: 29 / 35, score: 1.0\n",
      "Run: 30 / 35, score: 1.0\n",
      "Run: 31 / 35, score: 1.0\n",
      "Run: 32 / 35, score: 1.0\n",
      "Run: 33 / 35, score: 1.0\n",
      "Run: 34 / 35, score: 1.0\n"
     ]
    }
   ],
   "source": [
    "testing(states)"
   ]
  },
  {
   "cell_type": "code",
   "execution_count": null,
   "metadata": {},
   "outputs": [],
   "source": [
    "#plotting the rewards and epsilon values vs episodes\r\n",
    "\r\n",
    "def plot_learning_curves(x, scores,epsilons, filename, lines=None):\r\n",
    "    fig=plt.figure(figsize=(15,10))\r\n",
    "    ax=fig.add_subplot(121, label=\"1\")\r\n",
    "    ax2=fig.add_subplot(122, label=\"2\")\r\n",
    "        \r\n",
    "\r\n",
    "    ax.plot(x, epsilons, color=\"C0\")\r\n",
    "    ax.set_xlabel(\"Training Steps\", color=\"C0\")\r\n",
    "    ax.set_ylabel(\"Epsilon\", color=\"C0\")\r\n",
    "    ax.tick_params(axis='x', colors=\"C0\")\r\n",
    "    ax.tick_params(axis='y', colors=\"C0\")\r\n",
    "    ax.grid()\r\n",
    "    N = len(scores)\r\n",
    "    running_avg = np.empty(N)\r\n",
    "    for t in range(N):\r\n",
    "\t    running_avg[t] = np.mean(scores[max(0, t-20):(t+1)])\r\n",
    "\r\n",
    "    ax2.scatter(x, running_avg, color=\"C1\")\r\n",
    "    ax2.set_xlabel(\"Training Steps\", color=\"C0\")\r\n",
    "    ax2.yaxis.tick_right()\r\n",
    "    ax2.set_ylabel('Score', color=\"C1\")\r\n",
    "    ax2.yaxis.set_label_position('right')\r\n",
    "    ax2.tick_params(axis='x', colors=\"C0\")\r\n",
    "    ax2.tick_params(axis='y', colors=\"C1\")\r\n",
    "    ax2.grid()\r\n",
    "    if lines is not None:\r\n",
    "        for line in lines:\r\n",
    "            plt.axvline(x=line)\r\n",
    "\r\n",
    "    plt.savefig(filename)"
   ]
  },
  {
   "cell_type": "code",
   "execution_count": null,
   "metadata": {},
   "outputs": [],
   "source": [
    "plotFigure = 'plot1'"
   ]
  },
  {
   "cell_type": "code",
   "execution_count": null,
   "metadata": {},
   "outputs": [
    {
     "data": {
      "image/png": "[encoded data removed]",
      "text/plain": [
       "<Figure size 1080x720 with 2 Axes>"
      ]
     },
     "metadata": {},
     "output_type": "display_data"
    }
   ],
   "source": [
    "plot_learning_curves(plotsteps, plotScores, plotepsilon, plotFigure)"
   ]
  },
  {
   "cell_type": "code",
   "execution_count": null,
   "metadata": {},
   "outputs": [],
   "source": []
  }
 ],
 "metadata": {
  "interpreter": {
   "hash": "b42e8c54956ebe1e3ec306941cd06295d759e8aaba60cd117b7f75d747ffdee7"
  },
  "kernelspec": {
   "display_name": "Python 3.7.9 64-bit ('tf': conda)",
   "name": "python3"
  },
  "language_info": {
   "codemirror_mode": {
    "name": "ipython",
    "version": 3
   },
   "file_extension": ".py",
   "mimetype": "text/x-python",
   "name": "python",
   "nbconvert_exporter": "python",
   "pygments_lexer": "ipython3",
   "version": "3.7.9"
  },
  "orig_nbformat": 4
 },
 "nbformat": 4,
 "nbformat_minor": 2
}